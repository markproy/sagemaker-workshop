{
 "cells": [
  {
   "cell_type": "markdown",
   "metadata": {},
   "source": [
    "# Hello World, Amazon SageMaker Feature Store\n",
    "This notebook provides a demo of how easy it is to use SageMaker Feature Store. It does this by leveraging a simple  set of utility functions that wrap the feature store API to keep it simple for a data scientist using Python."
   ]
  },
  {
   "cell_type": "markdown",
   "metadata": {},
   "source": [
    "### A few imports"
   ]
  },
  {
   "cell_type": "code",
   "execution_count": 1,
   "metadata": {},
   "outputs": [],
   "source": [
    "from FeatureStore import Utils\n",
    "from IPython.core.display import display, HTML\n",
    "import pandas as pd\n",
    "import time\n",
    "from sklearn.ensemble import RandomForestClassifier\n",
    "\n",
    "FG_NAME = 'customers'"
   ]
  },
  {
   "cell_type": "markdown",
   "metadata": {},
   "source": [
    "#### Install pyarrow for reading a sample parquet file from the offline store"
   ]
  },
  {
   "cell_type": "code",
   "execution_count": 2,
   "metadata": {},
   "outputs": [
    {
     "name": "stdout",
     "output_type": "stream",
     "text": [
      "Requirement already satisfied: pyarrow in /home/ec2-user/anaconda3/envs/python3/lib/python3.6/site-packages (3.0.0)\n",
      "Requirement already satisfied: numpy>=1.16.6 in /home/ec2-user/anaconda3/envs/python3/lib/python3.6/site-packages (from pyarrow) (1.18.1)\n",
      "\u001b[33mWARNING: You are using pip version 20.0.2; however, version 21.0.1 is available.\n",
      "You should consider upgrading via the '/home/ec2-user/anaconda3/envs/python3/bin/python -m pip install --upgrade pip' command.\u001b[0m\n"
     ]
    }
   ],
   "source": [
    "!pip install pyarrow"
   ]
  },
  {
   "cell_type": "markdown",
   "metadata": {},
   "source": [
    "### Create some quick and dirty test data"
   ]
  },
  {
   "cell_type": "code",
   "execution_count": 3,
   "metadata": {},
   "outputs": [
    {
     "data": {
      "text/html": [
       "<div>\n",
       "<style scoped>\n",
       "    .dataframe tbody tr th:only-of-type {\n",
       "        vertical-align: middle;\n",
       "    }\n",
       "\n",
       "    .dataframe tbody tr th {\n",
       "        vertical-align: top;\n",
       "    }\n",
       "\n",
       "    .dataframe thead th {\n",
       "        text-align: right;\n",
       "    }\n",
       "</style>\n",
       "<table border=\"1\" class=\"dataframe\">\n",
       "  <thead>\n",
       "    <tr style=\"text-align: right;\">\n",
       "      <th></th>\n",
       "      <th>Id</th>\n",
       "      <th>UpdateTime</th>\n",
       "      <th>ZipCode</th>\n",
       "      <th>Persona</th>\n",
       "      <th>Churn</th>\n",
       "    </tr>\n",
       "  </thead>\n",
       "  <tbody>\n",
       "    <tr>\n",
       "      <th>0</th>\n",
       "      <td>1</td>\n",
       "      <td>2020-02-01T00:00:00Z</td>\n",
       "      <td>11111</td>\n",
       "      <td>1</td>\n",
       "      <td>1</td>\n",
       "    </tr>\n",
       "    <tr>\n",
       "      <th>1</th>\n",
       "      <td>2</td>\n",
       "      <td>2020-02-01T00:00:00Z</td>\n",
       "      <td>11111</td>\n",
       "      <td>1</td>\n",
       "      <td>1</td>\n",
       "    </tr>\n",
       "    <tr>\n",
       "      <th>2</th>\n",
       "      <td>3</td>\n",
       "      <td>2020-02-01T00:00:00Z</td>\n",
       "      <td>11111</td>\n",
       "      <td>1</td>\n",
       "      <td>1</td>\n",
       "    </tr>\n",
       "    <tr>\n",
       "      <th>3</th>\n",
       "      <td>4</td>\n",
       "      <td>2020-02-01T00:00:00Z</td>\n",
       "      <td>11111</td>\n",
       "      <td>2</td>\n",
       "      <td>0</td>\n",
       "    </tr>\n",
       "    <tr>\n",
       "      <th>4</th>\n",
       "      <td>5</td>\n",
       "      <td>2020-02-01T00:00:00Z</td>\n",
       "      <td>11111</td>\n",
       "      <td>2</td>\n",
       "      <td>0</td>\n",
       "    </tr>\n",
       "  </tbody>\n",
       "</table>\n",
       "</div>"
      ],
      "text/plain": [
       "   Id            UpdateTime  ZipCode  Persona  Churn\n",
       "0   1  2020-02-01T00:00:00Z    11111        1      1\n",
       "1   2  2020-02-01T00:00:00Z    11111        1      1\n",
       "2   3  2020-02-01T00:00:00Z    11111        1      1\n",
       "3   4  2020-02-01T00:00:00Z    11111        2      0\n",
       "4   5  2020-02-01T00:00:00Z    11111        2      0"
      ]
     },
     "execution_count": 3,
     "metadata": {},
     "output_type": "execute_result"
    }
   ],
   "source": [
    "df = pd.read_csv('customers.csv')\n",
    "ORIGINAL_RECORD_COUNT = df.shape[0]\n",
    "df.head()"
   ]
  },
  {
   "cell_type": "markdown",
   "metadata": {},
   "source": [
    "### Delete my existing feature group, since we're just playing in a test environment\n",
    "For completeness, it is good to delete the Glue table that was created on your behalf by SageMaker Feature Store. See the Glue console [here](https://console.aws.amazon.com/glue)."
   ]
  },
  {
   "cell_type": "code",
   "execution_count": 4,
   "metadata": {},
   "outputs": [
    {
     "name": "stdout",
     "output_type": "stream",
     "text": [
      "Deleting all s3 objects in prefix: offline-store/355151823911/sagemaker/us-east-1/offline-store/customers in bucket sagemaker-us-east-1-355151823911\n",
      "Waiting for Feature Group Deletion\n"
     ]
    }
   ],
   "source": [
    "Utils.delete_feature_group(FG_NAME)"
   ]
  },
  {
   "cell_type": "markdown",
   "metadata": {},
   "source": [
    "### Create a brand new feature group, directly from my dataframe"
   ]
  },
  {
   "cell_type": "code",
   "execution_count": 5,
   "metadata": {},
   "outputs": [
    {
     "name": "stdout",
     "output_type": "stream",
     "text": [
      "Waiting for Feature Group Creation\n",
      "Waiting for Feature Group Creation\n",
      "FeatureGroup customers successfully created.\n"
     ]
    }
   ],
   "source": [
    "tags = {'Environment': 'DEV', \n",
    "        'CostCenter': 'C20', \n",
    "        'Maintainer': 'John Smith', \n",
    "        'DocURL': 'https://www.google.com'}\n",
    "Utils.create_fg_from_df(FG_NAME, df, tags=tags)"
   ]
  },
  {
   "cell_type": "markdown",
   "metadata": {},
   "source": [
    "### See that it actually worked"
   ]
  },
  {
   "cell_type": "code",
   "execution_count": 6,
   "metadata": {},
   "outputs": [
    {
     "data": {
      "text/plain": [
       "[{'FeatureGroupName': 'customers',\n",
       "  'FeatureGroupArn': 'arn:aws:sagemaker:us-east-1:355151823911:feature-group/customers',\n",
       "  'CreationTime': datetime.datetime(2021, 2, 11, 17, 27, 12, 935000, tzinfo=tzlocal()),\n",
       "  'FeatureGroupStatus': 'Created'}]"
      ]
     },
     "execution_count": 6,
     "metadata": {},
     "output_type": "execute_result"
    }
   ],
   "source": [
    "Utils.list_feature_groups('cust')"
   ]
  },
  {
   "cell_type": "code",
   "execution_count": 7,
   "metadata": {},
   "outputs": [
    {
     "data": {
      "text/plain": [
       "{'FeatureGroupArn': 'arn:aws:sagemaker:us-east-1:355151823911:feature-group/customers',\n",
       " 'FeatureGroupName': 'customers',\n",
       " 'RecordIdentifierFeatureName': 'Id',\n",
       " 'EventTimeFeatureName': 'UpdateTime',\n",
       " 'FeatureDefinitions': [{'FeatureName': 'Id', 'FeatureType': 'Integral'},\n",
       "  {'FeatureName': 'UpdateTime', 'FeatureType': 'String'},\n",
       "  {'FeatureName': 'ZipCode', 'FeatureType': 'Integral'},\n",
       "  {'FeatureName': 'Persona', 'FeatureType': 'Integral'},\n",
       "  {'FeatureName': 'Churn', 'FeatureType': 'Integral'}],\n",
       " 'CreationTime': datetime.datetime(2021, 2, 11, 17, 27, 12, 935000, tzinfo=tzlocal()),\n",
       " 'OnlineStoreConfig': {'EnableOnlineStore': True},\n",
       " 'OfflineStoreConfig': {'S3StorageConfig': {'S3Uri': 's3://sagemaker-us-east-1-355151823911/offline-store'},\n",
       "  'DisableGlueTableCreation': False,\n",
       "  'DataCatalogConfig': {'TableName': 'customers-1613064432',\n",
       "   'Catalog': 'AwsDataCatalog',\n",
       "   'Database': 'sagemaker_featurestore'}},\n",
       " 'RoleArn': 'arn:aws:iam::355151823911:role/service-role/AmazonSageMaker-ExecutionRole-20200429T101529',\n",
       " 'FeatureGroupStatus': 'Created',\n",
       " 'ResponseMetadata': {'RequestId': '9a495631-d18e-4291-8027-93510dd4da96',\n",
       "  'HTTPStatusCode': 200,\n",
       "  'HTTPHeaders': {'x-amzn-requestid': '9a495631-d18e-4291-8027-93510dd4da96',\n",
       "   'content-type': 'application/x-amz-json-1.1',\n",
       "   'content-length': '930',\n",
       "   'date': 'Thu, 11 Feb 2021 17:27:24 GMT'},\n",
       "  'RetryAttempts': 0}}"
      ]
     },
     "execution_count": 7,
     "metadata": {},
     "output_type": "execute_result"
    }
   ],
   "source": [
    "Utils.describe_feature_group(FG_NAME)"
   ]
  },
  {
   "cell_type": "code",
   "execution_count": 8,
   "metadata": {},
   "outputs": [
    {
     "name": "stdout",
     "output_type": "stream",
     "text": [
      "Docs for feature group \"customers\" is here: https://www.google.com\n"
     ]
    }
   ],
   "source": [
    "doc_url = Utils.get_tags(FG_NAME)['DocURL']\n",
    "print(f'Docs for feature group \"{FG_NAME}\" is here: {doc_url}')"
   ]
  },
  {
   "cell_type": "markdown",
   "metadata": {},
   "source": [
    "### Ingest the features from my dataframe into my new feature group"
   ]
  },
  {
   "cell_type": "code",
   "execution_count": 9,
   "metadata": {},
   "outputs": [],
   "source": [
    "Utils.ingest_from_df(FG_NAME, df)"
   ]
  },
  {
   "cell_type": "markdown",
   "metadata": {},
   "source": [
    "### Show that we can lookup the latest feature values"
   ]
  },
  {
   "cell_type": "code",
   "execution_count": 10,
   "metadata": {},
   "outputs": [
    {
     "data": {
      "text/plain": [
       "[{'Id': 4,\n",
       "  'UpdateTime': '2020-02-01T00:00:00Z',\n",
       "  'ZipCode': 11111,\n",
       "  'Persona': 2,\n",
       "  'Churn': 0},\n",
       " {'Id': 2,\n",
       "  'UpdateTime': '2020-02-01T00:00:00Z',\n",
       "  'ZipCode': 11111,\n",
       "  'Persona': 1,\n",
       "  'Churn': 1},\n",
       " {'Id': 6,\n",
       "  'UpdateTime': '2020-02-01T00:00:00Z',\n",
       "  'ZipCode': 11111,\n",
       "  'Persona': 2,\n",
       "  'Churn': 0}]"
      ]
     },
     "execution_count": 10,
     "metadata": {},
     "output_type": "execute_result"
    }
   ],
   "source": [
    "Utils.get_latest_feature_values(FG_NAME, [4,2,6])"
   ]
  },
  {
   "cell_type": "markdown",
   "metadata": {},
   "source": [
    "## Show that we can get the history of feature values\n",
    "The offline store is append-only. New records are added."
   ]
  },
  {
   "cell_type": "markdown",
   "metadata": {},
   "source": [
    "#### Now, ingest some new data with later event timestamps\n",
    "We'll put in two new sets of records each with the event timestamp advanced one day, and the zipcode changed. We should now have three total sets of records:\n",
    "\n",
    "1. Original, event timestamp Feb 1, zip code 11111\n",
    "2. New set, with event timestamp Feb 2, zip code 22222\n",
    "3. Final set, with event timestamp Feb 3, zip code 33333"
   ]
  },
  {
   "cell_type": "code",
   "execution_count": 11,
   "metadata": {},
   "outputs": [],
   "source": [
    "df['UpdateTime'] = '2020-02-02T00:00:00Z'\n",
    "df['ZipCode'] = '22222'\n",
    "Utils.ingest_from_df(FG_NAME, df)\n",
    "\n",
    "df['UpdateTime'] = '2020-02-03T00:00:00Z'\n",
    "df['ZipCode'] = '33333'\n",
    "Utils.ingest_from_df(FG_NAME, df)"
   ]
  },
  {
   "cell_type": "markdown",
   "metadata": {},
   "source": [
    "#### Look up the full history for a few id's\n",
    "Wait a few minutes (up to 15) for the data to be there."
   ]
  },
  {
   "cell_type": "code",
   "execution_count": 12,
   "metadata": {},
   "outputs": [
    {
     "name": "stdout",
     "output_type": "stream",
     "text": [
      "Running query:\n",
      " SELECT * FROM \"customers-1613064432\"  WHERE Id IN (5,6)\n",
      "Waiting for offline store data...\n",
      "Running query:\n",
      " SELECT * FROM \"customers-1613064432\"  WHERE Id IN (5,6)\n",
      "Waiting for offline store data...\n",
      "Running query:\n",
      " SELECT * FROM \"customers-1613064432\"  WHERE Id IN (5,6)\n",
      "Waiting for offline store data...\n",
      "Running query:\n",
      " SELECT * FROM \"customers-1613064432\"  WHERE Id IN (5,6)\n",
      "Waiting for offline store data...\n",
      "Running query:\n",
      " SELECT * FROM \"customers-1613064432\"  WHERE Id IN (5,6)\n",
      "Waiting for offline store data...\n",
      "Running query:\n",
      " SELECT * FROM \"customers-1613064432\"  WHERE Id IN (5,6)\n",
      "Waiting for offline store data...\n",
      "Running query:\n",
      " SELECT * FROM \"customers-1613064432\"  WHERE Id IN (5,6)\n",
      "Waiting for offline store data...\n",
      "Running query:\n",
      " SELECT * FROM \"customers-1613064432\"  WHERE Id IN (5,6)\n",
      "\n",
      "Data is available. Waited 7 minutes\n",
      "\n"
     ]
    },
    {
     "data": {
      "text/html": [
       "<div>\n",
       "<style scoped>\n",
       "    .dataframe tbody tr th:only-of-type {\n",
       "        vertical-align: middle;\n",
       "    }\n",
       "\n",
       "    .dataframe tbody tr th {\n",
       "        vertical-align: top;\n",
       "    }\n",
       "\n",
       "    .dataframe thead th {\n",
       "        text-align: right;\n",
       "    }\n",
       "</style>\n",
       "<table border=\"1\" class=\"dataframe\">\n",
       "  <thead>\n",
       "    <tr style=\"text-align: right;\">\n",
       "      <th></th>\n",
       "      <th>id</th>\n",
       "      <th>updatetime</th>\n",
       "      <th>zipcode</th>\n",
       "      <th>persona</th>\n",
       "      <th>churn</th>\n",
       "      <th>write_time</th>\n",
       "      <th>api_invocation_time</th>\n",
       "      <th>is_deleted</th>\n",
       "    </tr>\n",
       "  </thead>\n",
       "  <tbody>\n",
       "    <tr>\n",
       "      <th>4</th>\n",
       "      <td>5</td>\n",
       "      <td>2020-02-01T00:00:00Z</td>\n",
       "      <td>11111</td>\n",
       "      <td>2</td>\n",
       "      <td>0</td>\n",
       "      <td>2021-02-11 17:33:46.578</td>\n",
       "      <td>2021-02-11 17:27:25.000</td>\n",
       "      <td>False</td>\n",
       "    </tr>\n",
       "    <tr>\n",
       "      <th>5</th>\n",
       "      <td>5</td>\n",
       "      <td>2020-02-02T00:00:00Z</td>\n",
       "      <td>22222</td>\n",
       "      <td>2</td>\n",
       "      <td>0</td>\n",
       "      <td>2021-02-11 17:33:46.587</td>\n",
       "      <td>2021-02-11 17:27:25.000</td>\n",
       "      <td>False</td>\n",
       "    </tr>\n",
       "    <tr>\n",
       "      <th>0</th>\n",
       "      <td>5</td>\n",
       "      <td>2020-02-03T00:00:00Z</td>\n",
       "      <td>33333</td>\n",
       "      <td>2</td>\n",
       "      <td>0</td>\n",
       "      <td>2021-02-11 17:33:46.587</td>\n",
       "      <td>2021-02-11 17:27:25.000</td>\n",
       "      <td>False</td>\n",
       "    </tr>\n",
       "    <tr>\n",
       "      <th>2</th>\n",
       "      <td>6</td>\n",
       "      <td>2020-02-01T00:00:00Z</td>\n",
       "      <td>11111</td>\n",
       "      <td>2</td>\n",
       "      <td>0</td>\n",
       "      <td>2021-02-11 17:33:46.912</td>\n",
       "      <td>2021-02-11 17:27:25.000</td>\n",
       "      <td>False</td>\n",
       "    </tr>\n",
       "    <tr>\n",
       "      <th>3</th>\n",
       "      <td>6</td>\n",
       "      <td>2020-02-02T00:00:00Z</td>\n",
       "      <td>22222</td>\n",
       "      <td>2</td>\n",
       "      <td>0</td>\n",
       "      <td>2021-02-11 17:33:46.913</td>\n",
       "      <td>2021-02-11 17:27:25.000</td>\n",
       "      <td>False</td>\n",
       "    </tr>\n",
       "    <tr>\n",
       "      <th>1</th>\n",
       "      <td>6</td>\n",
       "      <td>2020-02-03T00:00:00Z</td>\n",
       "      <td>33333</td>\n",
       "      <td>2</td>\n",
       "      <td>0</td>\n",
       "      <td>2021-02-11 17:33:46.913</td>\n",
       "      <td>2021-02-11 17:27:25.000</td>\n",
       "      <td>False</td>\n",
       "    </tr>\n",
       "  </tbody>\n",
       "</table>\n",
       "</div>"
      ],
      "text/plain": [
       "   id            updatetime  zipcode  persona  churn               write_time  \\\n",
       "4   5  2020-02-01T00:00:00Z    11111        2      0  2021-02-11 17:33:46.578   \n",
       "5   5  2020-02-02T00:00:00Z    22222        2      0  2021-02-11 17:33:46.587   \n",
       "0   5  2020-02-03T00:00:00Z    33333        2      0  2021-02-11 17:33:46.587   \n",
       "2   6  2020-02-01T00:00:00Z    11111        2      0  2021-02-11 17:33:46.912   \n",
       "3   6  2020-02-02T00:00:00Z    22222        2      0  2021-02-11 17:33:46.913   \n",
       "1   6  2020-02-03T00:00:00Z    33333        2      0  2021-02-11 17:33:46.913   \n",
       "\n",
       "       api_invocation_time  is_deleted  \n",
       "4  2021-02-11 17:27:25.000       False  \n",
       "5  2021-02-11 17:27:25.000       False  \n",
       "0  2021-02-11 17:27:25.000       False  \n",
       "2  2021-02-11 17:27:25.000       False  \n",
       "3  2021-02-11 17:27:25.000       False  \n",
       "1  2021-02-11 17:27:25.000       False  "
      ]
     },
     "execution_count": 12,
     "metadata": {},
     "output_type": "execute_result"
    }
   ],
   "source": [
    "ids = [5,6]\n",
    "features = ['*'] \n",
    "\n",
    "mins = 0\n",
    "while True:\n",
    "    hist_df = Utils.get_historical_offline_feature_values(FG_NAME, record_ids=ids, feature_names=features)\n",
    "    if hist_df.shape[0] < ORIGINAL_RECORD_COUNT:\n",
    "        print('Waiting for offline store data...')\n",
    "        time.sleep(60)\n",
    "        mins += 1\n",
    "    else:\n",
    "        break\n",
    "\n",
    "print(f'\\nData is available. Waited {mins} minutes\\n')\n",
    "hist_df.sort_values(by=['id','zipcode']).head(30)"
   ]
  },
  {
   "cell_type": "markdown",
   "metadata": {},
   "source": [
    "#### Browse the set of offline store files in the S3 console"
   ]
  },
  {
   "cell_type": "code",
   "execution_count": 13,
   "metadata": {},
   "outputs": [
    {
     "name": "stdout",
     "output_type": "stream",
     "text": [
      "Review offline store partitioned data files here: https://s3.console.aws.amazon.com/s3/buckets/sagemaker-us-east-1-355151823911?region=us-east-1&prefix=offline-store/355151823911/sagemaker/us-east-1/offline-store/customers/data/\n"
     ]
    }
   ],
   "source": [
    "s3_console_url = Utils.get_offline_store_url(FG_NAME)\n",
    "print(f'Review offline store partitioned data files here: {s3_console_url}')"
   ]
  },
  {
   "cell_type": "markdown",
   "metadata": {},
   "source": [
    "#### See the Glue table that can be used for Athena queries"
   ]
  },
  {
   "cell_type": "code",
   "execution_count": 14,
   "metadata": {},
   "outputs": [
    {
     "name": "stdout",
     "output_type": "stream",
     "text": [
      "To see the Glue table that was created for you, go here: https://console.aws.amazon.com/glue/home?region=us-east-1#table:catalog=355151823911;name=customers-1613064432;namespace=sagemaker_featurestore\n"
     ]
    }
   ],
   "source": [
    "glue_console_url = Utils.get_glue_table_url(FG_NAME)\n",
    "print(f'To see the Glue table that was created for you, go here: {glue_console_url}')"
   ]
  },
  {
   "cell_type": "markdown",
   "metadata": {},
   "source": [
    "#### Examine contents of a sample offline store file"
   ]
  },
  {
   "cell_type": "code",
   "execution_count": 15,
   "metadata": {},
   "outputs": [
    {
     "name": "stdout",
     "output_type": "stream",
     "text": [
      "Downloaded sample file from offline store: 20200201T000000Z_5lRSAkieCeFIBG51.parquet\n"
     ]
    },
    {
     "data": {
      "text/html": [
       "<div>\n",
       "<style scoped>\n",
       "    .dataframe tbody tr th:only-of-type {\n",
       "        vertical-align: middle;\n",
       "    }\n",
       "\n",
       "    .dataframe tbody tr th {\n",
       "        vertical-align: top;\n",
       "    }\n",
       "\n",
       "    .dataframe thead th {\n",
       "        text-align: right;\n",
       "    }\n",
       "</style>\n",
       "<table border=\"1\" class=\"dataframe\">\n",
       "  <thead>\n",
       "    <tr style=\"text-align: right;\">\n",
       "      <th></th>\n",
       "      <th>Id</th>\n",
       "      <th>UpdateTime</th>\n",
       "      <th>ZipCode</th>\n",
       "      <th>Persona</th>\n",
       "      <th>Churn</th>\n",
       "      <th>write_time</th>\n",
       "      <th>api_invocation_time</th>\n",
       "      <th>is_deleted</th>\n",
       "    </tr>\n",
       "  </thead>\n",
       "  <tbody>\n",
       "    <tr>\n",
       "      <th>0</th>\n",
       "      <td>2</td>\n",
       "      <td>2020-02-01T00:00:00Z</td>\n",
       "      <td>11111</td>\n",
       "      <td>1</td>\n",
       "      <td>1</td>\n",
       "      <td>2021-02-11 17:33:17.549000+00:00</td>\n",
       "      <td>2021-02-11 17:27:25+00:00</td>\n",
       "      <td>False</td>\n",
       "    </tr>\n",
       "  </tbody>\n",
       "</table>\n",
       "</div>"
      ],
      "text/plain": [
       "   Id            UpdateTime  ZipCode  Persona  Churn  \\\n",
       "0   2  2020-02-01T00:00:00Z    11111        1      1   \n",
       "\n",
       "                        write_time       api_invocation_time  is_deleted  \n",
       "0 2021-02-11 17:33:17.549000+00:00 2021-02-11 17:27:25+00:00       False  "
      ]
     },
     "execution_count": 15,
     "metadata": {},
     "output_type": "execute_result"
    }
   ],
   "source": [
    "sample_filename = Utils.download_sample_offline_file(FG_NAME)\n",
    "print(f'Downloaded sample file from offline store: {sample_filename}')\n",
    "sample_df = pd.read_parquet(sample_filename)\n",
    "sample_df.head()"
   ]
  },
  {
   "cell_type": "markdown",
   "metadata": {},
   "source": [
    "#### See the total record count in the offline store for this feature group"
   ]
  },
  {
   "cell_type": "code",
   "execution_count": 16,
   "metadata": {},
   "outputs": [
    {
     "name": "stdout",
     "output_type": "stream",
     "text": [
      "Found 18 records in \"customers\" feature group.\n"
     ]
    }
   ],
   "source": [
    "total_record_count = Utils.get_historical_record_count(FG_NAME)\n",
    "print(f'Found {total_record_count:,d} records in \"{FG_NAME}\" feature group.')"
   ]
  },
  {
   "cell_type": "markdown",
   "metadata": {},
   "source": [
    "#### Here we retrieve the full history for all id's"
   ]
  },
  {
   "cell_type": "code",
   "execution_count": 17,
   "metadata": {},
   "outputs": [
    {
     "name": "stdout",
     "output_type": "stream",
     "text": [
      "Running query:\n",
      " SELECT * FROM \"customers-1613064432\" \n"
     ]
    },
    {
     "data": {
      "text/html": [
       "<div>\n",
       "<style scoped>\n",
       "    .dataframe tbody tr th:only-of-type {\n",
       "        vertical-align: middle;\n",
       "    }\n",
       "\n",
       "    .dataframe tbody tr th {\n",
       "        vertical-align: top;\n",
       "    }\n",
       "\n",
       "    .dataframe thead th {\n",
       "        text-align: right;\n",
       "    }\n",
       "</style>\n",
       "<table border=\"1\" class=\"dataframe\">\n",
       "  <thead>\n",
       "    <tr style=\"text-align: right;\">\n",
       "      <th></th>\n",
       "      <th>id</th>\n",
       "      <th>updatetime</th>\n",
       "      <th>zipcode</th>\n",
       "      <th>persona</th>\n",
       "      <th>churn</th>\n",
       "      <th>write_time</th>\n",
       "      <th>api_invocation_time</th>\n",
       "      <th>is_deleted</th>\n",
       "    </tr>\n",
       "  </thead>\n",
       "  <tbody>\n",
       "    <tr>\n",
       "      <th>15</th>\n",
       "      <td>1</td>\n",
       "      <td>2020-02-01T00:00:00Z</td>\n",
       "      <td>11111</td>\n",
       "      <td>1</td>\n",
       "      <td>1</td>\n",
       "      <td>2021-02-11 17:33:46.912</td>\n",
       "      <td>2021-02-11 17:27:24.000</td>\n",
       "      <td>False</td>\n",
       "    </tr>\n",
       "    <tr>\n",
       "      <th>0</th>\n",
       "      <td>1</td>\n",
       "      <td>2020-02-02T00:00:00Z</td>\n",
       "      <td>22222</td>\n",
       "      <td>1</td>\n",
       "      <td>1</td>\n",
       "      <td>2021-02-11 17:33:46.913</td>\n",
       "      <td>2021-02-11 17:27:25.000</td>\n",
       "      <td>False</td>\n",
       "    </tr>\n",
       "    <tr>\n",
       "      <th>3</th>\n",
       "      <td>1</td>\n",
       "      <td>2020-02-03T00:00:00Z</td>\n",
       "      <td>33333</td>\n",
       "      <td>1</td>\n",
       "      <td>1</td>\n",
       "      <td>2021-02-11 17:33:46.913</td>\n",
       "      <td>2021-02-11 17:27:25.000</td>\n",
       "      <td>False</td>\n",
       "    </tr>\n",
       "    <tr>\n",
       "      <th>7</th>\n",
       "      <td>2</td>\n",
       "      <td>2020-02-01T00:00:00Z</td>\n",
       "      <td>11111</td>\n",
       "      <td>1</td>\n",
       "      <td>1</td>\n",
       "      <td>2021-02-11 17:33:17.549</td>\n",
       "      <td>2021-02-11 17:27:25.000</td>\n",
       "      <td>False</td>\n",
       "    </tr>\n",
       "    <tr>\n",
       "      <th>2</th>\n",
       "      <td>2</td>\n",
       "      <td>2020-02-02T00:00:00Z</td>\n",
       "      <td>22222</td>\n",
       "      <td>1</td>\n",
       "      <td>1</td>\n",
       "      <td>2021-02-11 17:33:17.567</td>\n",
       "      <td>2021-02-11 17:27:25.000</td>\n",
       "      <td>False</td>\n",
       "    </tr>\n",
       "    <tr>\n",
       "      <th>13</th>\n",
       "      <td>2</td>\n",
       "      <td>2020-02-03T00:00:00Z</td>\n",
       "      <td>33333</td>\n",
       "      <td>1</td>\n",
       "      <td>1</td>\n",
       "      <td>2021-02-11 17:33:17.576</td>\n",
       "      <td>2021-02-11 17:27:25.000</td>\n",
       "      <td>False</td>\n",
       "    </tr>\n",
       "    <tr>\n",
       "      <th>12</th>\n",
       "      <td>3</td>\n",
       "      <td>2020-02-01T00:00:00Z</td>\n",
       "      <td>11111</td>\n",
       "      <td>1</td>\n",
       "      <td>1</td>\n",
       "      <td>2021-02-11 17:33:17.563</td>\n",
       "      <td>2021-02-11 17:27:25.000</td>\n",
       "      <td>False</td>\n",
       "    </tr>\n",
       "    <tr>\n",
       "      <th>10</th>\n",
       "      <td>3</td>\n",
       "      <td>2020-02-02T00:00:00Z</td>\n",
       "      <td>22222</td>\n",
       "      <td>1</td>\n",
       "      <td>1</td>\n",
       "      <td>2021-02-11 17:33:17.571</td>\n",
       "      <td>2021-02-11 17:27:25.000</td>\n",
       "      <td>False</td>\n",
       "    </tr>\n",
       "    <tr>\n",
       "      <th>11</th>\n",
       "      <td>3</td>\n",
       "      <td>2020-02-03T00:00:00Z</td>\n",
       "      <td>33333</td>\n",
       "      <td>1</td>\n",
       "      <td>1</td>\n",
       "      <td>2021-02-11 17:33:17.579</td>\n",
       "      <td>2021-02-11 17:27:25.000</td>\n",
       "      <td>False</td>\n",
       "    </tr>\n",
       "    <tr>\n",
       "      <th>5</th>\n",
       "      <td>4</td>\n",
       "      <td>2020-02-01T00:00:00Z</td>\n",
       "      <td>11111</td>\n",
       "      <td>2</td>\n",
       "      <td>0</td>\n",
       "      <td>2021-02-11 17:33:46.578</td>\n",
       "      <td>2021-02-11 17:27:24.000</td>\n",
       "      <td>False</td>\n",
       "    </tr>\n",
       "    <tr>\n",
       "      <th>8</th>\n",
       "      <td>4</td>\n",
       "      <td>2020-02-02T00:00:00Z</td>\n",
       "      <td>22222</td>\n",
       "      <td>2</td>\n",
       "      <td>0</td>\n",
       "      <td>2021-02-11 17:33:46.587</td>\n",
       "      <td>2021-02-11 17:27:25.000</td>\n",
       "      <td>False</td>\n",
       "    </tr>\n",
       "    <tr>\n",
       "      <th>16</th>\n",
       "      <td>4</td>\n",
       "      <td>2020-02-03T00:00:00Z</td>\n",
       "      <td>33333</td>\n",
       "      <td>2</td>\n",
       "      <td>0</td>\n",
       "      <td>2021-02-11 17:33:46.587</td>\n",
       "      <td>2021-02-11 17:27:25.000</td>\n",
       "      <td>False</td>\n",
       "    </tr>\n",
       "    <tr>\n",
       "      <th>6</th>\n",
       "      <td>5</td>\n",
       "      <td>2020-02-01T00:00:00Z</td>\n",
       "      <td>11111</td>\n",
       "      <td>2</td>\n",
       "      <td>0</td>\n",
       "      <td>2021-02-11 17:33:46.578</td>\n",
       "      <td>2021-02-11 17:27:25.000</td>\n",
       "      <td>False</td>\n",
       "    </tr>\n",
       "    <tr>\n",
       "      <th>9</th>\n",
       "      <td>5</td>\n",
       "      <td>2020-02-02T00:00:00Z</td>\n",
       "      <td>22222</td>\n",
       "      <td>2</td>\n",
       "      <td>0</td>\n",
       "      <td>2021-02-11 17:33:46.587</td>\n",
       "      <td>2021-02-11 17:27:25.000</td>\n",
       "      <td>False</td>\n",
       "    </tr>\n",
       "    <tr>\n",
       "      <th>17</th>\n",
       "      <td>5</td>\n",
       "      <td>2020-02-03T00:00:00Z</td>\n",
       "      <td>33333</td>\n",
       "      <td>2</td>\n",
       "      <td>0</td>\n",
       "      <td>2021-02-11 17:33:46.587</td>\n",
       "      <td>2021-02-11 17:27:25.000</td>\n",
       "      <td>False</td>\n",
       "    </tr>\n",
       "    <tr>\n",
       "      <th>14</th>\n",
       "      <td>6</td>\n",
       "      <td>2020-02-01T00:00:00Z</td>\n",
       "      <td>11111</td>\n",
       "      <td>2</td>\n",
       "      <td>0</td>\n",
       "      <td>2021-02-11 17:33:46.912</td>\n",
       "      <td>2021-02-11 17:27:25.000</td>\n",
       "      <td>False</td>\n",
       "    </tr>\n",
       "    <tr>\n",
       "      <th>1</th>\n",
       "      <td>6</td>\n",
       "      <td>2020-02-02T00:00:00Z</td>\n",
       "      <td>22222</td>\n",
       "      <td>2</td>\n",
       "      <td>0</td>\n",
       "      <td>2021-02-11 17:33:46.913</td>\n",
       "      <td>2021-02-11 17:27:25.000</td>\n",
       "      <td>False</td>\n",
       "    </tr>\n",
       "    <tr>\n",
       "      <th>4</th>\n",
       "      <td>6</td>\n",
       "      <td>2020-02-03T00:00:00Z</td>\n",
       "      <td>33333</td>\n",
       "      <td>2</td>\n",
       "      <td>0</td>\n",
       "      <td>2021-02-11 17:33:46.913</td>\n",
       "      <td>2021-02-11 17:27:25.000</td>\n",
       "      <td>False</td>\n",
       "    </tr>\n",
       "  </tbody>\n",
       "</table>\n",
       "</div>"
      ],
      "text/plain": [
       "    id            updatetime  zipcode  persona  churn  \\\n",
       "15   1  2020-02-01T00:00:00Z    11111        1      1   \n",
       "0    1  2020-02-02T00:00:00Z    22222        1      1   \n",
       "3    1  2020-02-03T00:00:00Z    33333        1      1   \n",
       "7    2  2020-02-01T00:00:00Z    11111        1      1   \n",
       "2    2  2020-02-02T00:00:00Z    22222        1      1   \n",
       "13   2  2020-02-03T00:00:00Z    33333        1      1   \n",
       "12   3  2020-02-01T00:00:00Z    11111        1      1   \n",
       "10   3  2020-02-02T00:00:00Z    22222        1      1   \n",
       "11   3  2020-02-03T00:00:00Z    33333        1      1   \n",
       "5    4  2020-02-01T00:00:00Z    11111        2      0   \n",
       "8    4  2020-02-02T00:00:00Z    22222        2      0   \n",
       "16   4  2020-02-03T00:00:00Z    33333        2      0   \n",
       "6    5  2020-02-01T00:00:00Z    11111        2      0   \n",
       "9    5  2020-02-02T00:00:00Z    22222        2      0   \n",
       "17   5  2020-02-03T00:00:00Z    33333        2      0   \n",
       "14   6  2020-02-01T00:00:00Z    11111        2      0   \n",
       "1    6  2020-02-02T00:00:00Z    22222        2      0   \n",
       "4    6  2020-02-03T00:00:00Z    33333        2      0   \n",
       "\n",
       "                 write_time      api_invocation_time  is_deleted  \n",
       "15  2021-02-11 17:33:46.912  2021-02-11 17:27:24.000       False  \n",
       "0   2021-02-11 17:33:46.913  2021-02-11 17:27:25.000       False  \n",
       "3   2021-02-11 17:33:46.913  2021-02-11 17:27:25.000       False  \n",
       "7   2021-02-11 17:33:17.549  2021-02-11 17:27:25.000       False  \n",
       "2   2021-02-11 17:33:17.567  2021-02-11 17:27:25.000       False  \n",
       "13  2021-02-11 17:33:17.576  2021-02-11 17:27:25.000       False  \n",
       "12  2021-02-11 17:33:17.563  2021-02-11 17:27:25.000       False  \n",
       "10  2021-02-11 17:33:17.571  2021-02-11 17:27:25.000       False  \n",
       "11  2021-02-11 17:33:17.579  2021-02-11 17:27:25.000       False  \n",
       "5   2021-02-11 17:33:46.578  2021-02-11 17:27:24.000       False  \n",
       "8   2021-02-11 17:33:46.587  2021-02-11 17:27:25.000       False  \n",
       "16  2021-02-11 17:33:46.587  2021-02-11 17:27:25.000       False  \n",
       "6   2021-02-11 17:33:46.578  2021-02-11 17:27:25.000       False  \n",
       "9   2021-02-11 17:33:46.587  2021-02-11 17:27:25.000       False  \n",
       "17  2021-02-11 17:33:46.587  2021-02-11 17:27:25.000       False  \n",
       "14  2021-02-11 17:33:46.912  2021-02-11 17:27:25.000       False  \n",
       "1   2021-02-11 17:33:46.913  2021-02-11 17:27:25.000       False  \n",
       "4   2021-02-11 17:33:46.913  2021-02-11 17:27:25.000       False  "
      ]
     },
     "execution_count": 17,
     "metadata": {},
     "output_type": "execute_result"
    }
   ],
   "source": [
    "hist_df = Utils.get_historical_offline_feature_values(FG_NAME)\n",
    "hist_df.sort_values(by=['id','zipcode']).head(100)"
   ]
  },
  {
   "cell_type": "markdown",
   "metadata": {},
   "source": [
    "#### Now let's see what the online store thinks are the latest values"
   ]
  },
  {
   "cell_type": "code",
   "execution_count": 18,
   "metadata": {},
   "outputs": [
    {
     "data": {
      "text/plain": [
       "[{'Id': 4,\n",
       "  'UpdateTime': '2020-02-03T00:00:00Z',\n",
       "  'ZipCode': 33333,\n",
       "  'Persona': 2,\n",
       "  'Churn': 0},\n",
       " {'Id': 2,\n",
       "  'UpdateTime': '2020-02-03T00:00:00Z',\n",
       "  'ZipCode': 33333,\n",
       "  'Persona': 1,\n",
       "  'Churn': 1},\n",
       " {'Id': 6,\n",
       "  'UpdateTime': '2020-02-03T00:00:00Z',\n",
       "  'ZipCode': 33333,\n",
       "  'Persona': 2,\n",
       "  'Churn': 0}]"
      ]
     },
     "execution_count": 18,
     "metadata": {},
     "output_type": "execute_result"
    }
   ],
   "source": [
    "Utils.get_latest_feature_values(FG_NAME, [4,2,6])"
   ]
  },
  {
   "cell_type": "markdown",
   "metadata": {},
   "source": [
    "## Train a simple model with features extracted from the feature store\n",
    "For our example, the dataset we want is the latest values for 3 specific features for each record id."
   ]
  },
  {
   "cell_type": "code",
   "execution_count": 19,
   "metadata": {},
   "outputs": [
    {
     "name": "stdout",
     "output_type": "stream",
     "text": [
      "Running query:\n",
      " SELECT ZipCode,Persona,Churn FROM (SELECT *, dense_rank() OVER (PARTITION BY Id ORDER BY UpdateTime DESC, Api_Invocation_Time DESC, write_time DESC) AS rank FROM \"customers-1613064432\" ) WHERE rank = 1 AND NOT is_deleted\n"
     ]
    },
    {
     "data": {
      "text/html": [
       "<div>\n",
       "<style scoped>\n",
       "    .dataframe tbody tr th:only-of-type {\n",
       "        vertical-align: middle;\n",
       "    }\n",
       "\n",
       "    .dataframe tbody tr th {\n",
       "        vertical-align: top;\n",
       "    }\n",
       "\n",
       "    .dataframe thead th {\n",
       "        text-align: right;\n",
       "    }\n",
       "</style>\n",
       "<table border=\"1\" class=\"dataframe\">\n",
       "  <thead>\n",
       "    <tr style=\"text-align: right;\">\n",
       "      <th></th>\n",
       "      <th>ZipCode</th>\n",
       "      <th>Persona</th>\n",
       "      <th>Churn</th>\n",
       "    </tr>\n",
       "  </thead>\n",
       "  <tbody>\n",
       "    <tr>\n",
       "      <th>0</th>\n",
       "      <td>33333</td>\n",
       "      <td>2</td>\n",
       "      <td>0</td>\n",
       "    </tr>\n",
       "    <tr>\n",
       "      <th>1</th>\n",
       "      <td>33333</td>\n",
       "      <td>2</td>\n",
       "      <td>0</td>\n",
       "    </tr>\n",
       "    <tr>\n",
       "      <th>2</th>\n",
       "      <td>33333</td>\n",
       "      <td>1</td>\n",
       "      <td>1</td>\n",
       "    </tr>\n",
       "    <tr>\n",
       "      <th>3</th>\n",
       "      <td>33333</td>\n",
       "      <td>1</td>\n",
       "      <td>1</td>\n",
       "    </tr>\n",
       "    <tr>\n",
       "      <th>4</th>\n",
       "      <td>33333</td>\n",
       "      <td>2</td>\n",
       "      <td>0</td>\n",
       "    </tr>\n",
       "    <tr>\n",
       "      <th>5</th>\n",
       "      <td>33333</td>\n",
       "      <td>1</td>\n",
       "      <td>1</td>\n",
       "    </tr>\n",
       "  </tbody>\n",
       "</table>\n",
       "</div>"
      ],
      "text/plain": [
       "   ZipCode  Persona  Churn\n",
       "0    33333        2      0\n",
       "1    33333        2      0\n",
       "2    33333        1      1\n",
       "3    33333        1      1\n",
       "4    33333        2      0\n",
       "5    33333        1      1"
      ]
     },
     "execution_count": 19,
     "metadata": {},
     "output_type": "execute_result"
    }
   ],
   "source": [
    "full_df = Utils.get_latest_offline_feature_values(FG_NAME, feature_names=['ZipCode','Persona','Churn'])\n",
    "full_df.head(10)"
   ]
  },
  {
   "cell_type": "code",
   "execution_count": 20,
   "metadata": {},
   "outputs": [],
   "source": [
    "train_df = full_df[0:4]\n",
    "test_df = full_df[4:6]"
   ]
  },
  {
   "cell_type": "code",
   "execution_count": 21,
   "metadata": {},
   "outputs": [
    {
     "data": {
      "text/plain": [
       "array([0, 1])"
      ]
     },
     "execution_count": 21,
     "metadata": {},
     "output_type": "execute_result"
    }
   ],
   "source": [
    "clf = RandomForestClassifier(max_depth=2, random_state=0)\n",
    "clf.fit(train_df[['ZipCode','Persona']], train_df[['Churn']].values.ravel())\n",
    "clf.predict(test_df[['ZipCode','Persona']])"
   ]
  },
  {
   "cell_type": "markdown",
   "metadata": {},
   "source": [
    "## Demonstrate time travel"
   ]
  },
  {
   "cell_type": "markdown",
   "metadata": {},
   "source": [
    "#### Time travel to get dataset as it looked on 2020-02-02"
   ]
  },
  {
   "cell_type": "code",
   "execution_count": 22,
   "metadata": {},
   "outputs": [
    {
     "name": "stdout",
     "output_type": "stream",
     "text": [
      "Running query:\n",
      " SELECT * FROM (SELECT *, dense_rank() OVER (PARTITION BY Id ORDER BY UpdateTime DESC, Api_Invocation_Time DESC, write_time DESC) AS rank FROM \"customers-1613064432\" WHERE UpdateTime <= '2020-02-02T00:00:00Z') WHERE rank = 1 AND NOT is_deleted\n"
     ]
    },
    {
     "data": {
      "text/html": [
       "<div>\n",
       "<style scoped>\n",
       "    .dataframe tbody tr th:only-of-type {\n",
       "        vertical-align: middle;\n",
       "    }\n",
       "\n",
       "    .dataframe tbody tr th {\n",
       "        vertical-align: top;\n",
       "    }\n",
       "\n",
       "    .dataframe thead th {\n",
       "        text-align: right;\n",
       "    }\n",
       "</style>\n",
       "<table border=\"1\" class=\"dataframe\">\n",
       "  <thead>\n",
       "    <tr style=\"text-align: right;\">\n",
       "      <th></th>\n",
       "      <th>id</th>\n",
       "      <th>updatetime</th>\n",
       "      <th>zipcode</th>\n",
       "      <th>persona</th>\n",
       "      <th>churn</th>\n",
       "      <th>write_time</th>\n",
       "      <th>api_invocation_time</th>\n",
       "      <th>is_deleted</th>\n",
       "      <th>rank</th>\n",
       "    </tr>\n",
       "  </thead>\n",
       "  <tbody>\n",
       "    <tr>\n",
       "      <th>0</th>\n",
       "      <td>1</td>\n",
       "      <td>2020-02-02T00:00:00Z</td>\n",
       "      <td>22222</td>\n",
       "      <td>1</td>\n",
       "      <td>1</td>\n",
       "      <td>2021-02-11 17:33:46.913</td>\n",
       "      <td>2021-02-11 17:27:25.000</td>\n",
       "      <td>False</td>\n",
       "      <td>1</td>\n",
       "    </tr>\n",
       "    <tr>\n",
       "      <th>1</th>\n",
       "      <td>4</td>\n",
       "      <td>2020-02-02T00:00:00Z</td>\n",
       "      <td>22222</td>\n",
       "      <td>2</td>\n",
       "      <td>0</td>\n",
       "      <td>2021-02-11 17:33:46.587</td>\n",
       "      <td>2021-02-11 17:27:25.000</td>\n",
       "      <td>False</td>\n",
       "      <td>1</td>\n",
       "    </tr>\n",
       "    <tr>\n",
       "      <th>2</th>\n",
       "      <td>5</td>\n",
       "      <td>2020-02-02T00:00:00Z</td>\n",
       "      <td>22222</td>\n",
       "      <td>2</td>\n",
       "      <td>0</td>\n",
       "      <td>2021-02-11 17:33:46.587</td>\n",
       "      <td>2021-02-11 17:27:25.000</td>\n",
       "      <td>False</td>\n",
       "      <td>1</td>\n",
       "    </tr>\n",
       "    <tr>\n",
       "      <th>3</th>\n",
       "      <td>2</td>\n",
       "      <td>2020-02-02T00:00:00Z</td>\n",
       "      <td>22222</td>\n",
       "      <td>1</td>\n",
       "      <td>1</td>\n",
       "      <td>2021-02-11 17:33:17.567</td>\n",
       "      <td>2021-02-11 17:27:25.000</td>\n",
       "      <td>False</td>\n",
       "      <td>1</td>\n",
       "    </tr>\n",
       "    <tr>\n",
       "      <th>4</th>\n",
       "      <td>3</td>\n",
       "      <td>2020-02-02T00:00:00Z</td>\n",
       "      <td>22222</td>\n",
       "      <td>1</td>\n",
       "      <td>1</td>\n",
       "      <td>2021-02-11 17:33:17.571</td>\n",
       "      <td>2021-02-11 17:27:25.000</td>\n",
       "      <td>False</td>\n",
       "      <td>1</td>\n",
       "    </tr>\n",
       "    <tr>\n",
       "      <th>5</th>\n",
       "      <td>6</td>\n",
       "      <td>2020-02-02T00:00:00Z</td>\n",
       "      <td>22222</td>\n",
       "      <td>2</td>\n",
       "      <td>0</td>\n",
       "      <td>2021-02-11 17:33:46.913</td>\n",
       "      <td>2021-02-11 17:27:25.000</td>\n",
       "      <td>False</td>\n",
       "      <td>1</td>\n",
       "    </tr>\n",
       "  </tbody>\n",
       "</table>\n",
       "</div>"
      ],
      "text/plain": [
       "   id            updatetime  zipcode  persona  churn               write_time  \\\n",
       "0   1  2020-02-02T00:00:00Z    22222        1      1  2021-02-11 17:33:46.913   \n",
       "1   4  2020-02-02T00:00:00Z    22222        2      0  2021-02-11 17:33:46.587   \n",
       "2   5  2020-02-02T00:00:00Z    22222        2      0  2021-02-11 17:33:46.587   \n",
       "3   2  2020-02-02T00:00:00Z    22222        1      1  2021-02-11 17:33:17.567   \n",
       "4   3  2020-02-02T00:00:00Z    22222        1      1  2021-02-11 17:33:17.571   \n",
       "5   6  2020-02-02T00:00:00Z    22222        2      0  2021-02-11 17:33:46.913   \n",
       "\n",
       "       api_invocation_time  is_deleted  rank  \n",
       "0  2021-02-11 17:27:25.000       False     1  \n",
       "1  2021-02-11 17:27:25.000       False     1  \n",
       "2  2021-02-11 17:27:25.000       False     1  \n",
       "3  2021-02-11 17:27:25.000       False     1  \n",
       "4  2021-02-11 17:27:25.000       False     1  \n",
       "5  2021-02-11 17:27:25.000       False     1  "
      ]
     },
     "execution_count": 22,
     "metadata": {},
     "output_type": "execute_result"
    }
   ],
   "source": [
    "Utils.get_offline_feature_values_as_of(FG_NAME, '2020-02-02T00:00:00Z')"
   ]
  },
  {
   "cell_type": "markdown",
   "metadata": {},
   "source": [
    "#### Time travel to get dataset as it looked on 2020-02-01"
   ]
  },
  {
   "cell_type": "code",
   "execution_count": 23,
   "metadata": {},
   "outputs": [
    {
     "name": "stdout",
     "output_type": "stream",
     "text": [
      "Running query:\n",
      " SELECT * FROM (SELECT *, dense_rank() OVER (PARTITION BY Id ORDER BY UpdateTime DESC, Api_Invocation_Time DESC, write_time DESC) AS rank FROM \"customers-1613064432\" WHERE UpdateTime <= '2020-02-01T00:00:00Z') WHERE rank = 1 AND NOT is_deleted\n"
     ]
    },
    {
     "data": {
      "text/html": [
       "<div>\n",
       "<style scoped>\n",
       "    .dataframe tbody tr th:only-of-type {\n",
       "        vertical-align: middle;\n",
       "    }\n",
       "\n",
       "    .dataframe tbody tr th {\n",
       "        vertical-align: top;\n",
       "    }\n",
       "\n",
       "    .dataframe thead th {\n",
       "        text-align: right;\n",
       "    }\n",
       "</style>\n",
       "<table border=\"1\" class=\"dataframe\">\n",
       "  <thead>\n",
       "    <tr style=\"text-align: right;\">\n",
       "      <th></th>\n",
       "      <th>id</th>\n",
       "      <th>updatetime</th>\n",
       "      <th>zipcode</th>\n",
       "      <th>persona</th>\n",
       "      <th>churn</th>\n",
       "      <th>write_time</th>\n",
       "      <th>api_invocation_time</th>\n",
       "      <th>is_deleted</th>\n",
       "      <th>rank</th>\n",
       "    </tr>\n",
       "  </thead>\n",
       "  <tbody>\n",
       "    <tr>\n",
       "      <th>0</th>\n",
       "      <td>6</td>\n",
       "      <td>2020-02-01T00:00:00Z</td>\n",
       "      <td>11111</td>\n",
       "      <td>2</td>\n",
       "      <td>0</td>\n",
       "      <td>2021-02-11 17:33:46.912</td>\n",
       "      <td>2021-02-11 17:27:25.000</td>\n",
       "      <td>False</td>\n",
       "      <td>1</td>\n",
       "    </tr>\n",
       "    <tr>\n",
       "      <th>1</th>\n",
       "      <td>3</td>\n",
       "      <td>2020-02-01T00:00:00Z</td>\n",
       "      <td>11111</td>\n",
       "      <td>1</td>\n",
       "      <td>1</td>\n",
       "      <td>2021-02-11 17:33:17.563</td>\n",
       "      <td>2021-02-11 17:27:25.000</td>\n",
       "      <td>False</td>\n",
       "      <td>1</td>\n",
       "    </tr>\n",
       "    <tr>\n",
       "      <th>2</th>\n",
       "      <td>2</td>\n",
       "      <td>2020-02-01T00:00:00Z</td>\n",
       "      <td>11111</td>\n",
       "      <td>1</td>\n",
       "      <td>1</td>\n",
       "      <td>2021-02-11 17:33:17.549</td>\n",
       "      <td>2021-02-11 17:27:25.000</td>\n",
       "      <td>False</td>\n",
       "      <td>1</td>\n",
       "    </tr>\n",
       "    <tr>\n",
       "      <th>3</th>\n",
       "      <td>1</td>\n",
       "      <td>2020-02-01T00:00:00Z</td>\n",
       "      <td>11111</td>\n",
       "      <td>1</td>\n",
       "      <td>1</td>\n",
       "      <td>2021-02-11 17:33:46.912</td>\n",
       "      <td>2021-02-11 17:27:24.000</td>\n",
       "      <td>False</td>\n",
       "      <td>1</td>\n",
       "    </tr>\n",
       "    <tr>\n",
       "      <th>4</th>\n",
       "      <td>4</td>\n",
       "      <td>2020-02-01T00:00:00Z</td>\n",
       "      <td>11111</td>\n",
       "      <td>2</td>\n",
       "      <td>0</td>\n",
       "      <td>2021-02-11 17:33:46.578</td>\n",
       "      <td>2021-02-11 17:27:24.000</td>\n",
       "      <td>False</td>\n",
       "      <td>1</td>\n",
       "    </tr>\n",
       "    <tr>\n",
       "      <th>5</th>\n",
       "      <td>5</td>\n",
       "      <td>2020-02-01T00:00:00Z</td>\n",
       "      <td>11111</td>\n",
       "      <td>2</td>\n",
       "      <td>0</td>\n",
       "      <td>2021-02-11 17:33:46.578</td>\n",
       "      <td>2021-02-11 17:27:25.000</td>\n",
       "      <td>False</td>\n",
       "      <td>1</td>\n",
       "    </tr>\n",
       "  </tbody>\n",
       "</table>\n",
       "</div>"
      ],
      "text/plain": [
       "   id            updatetime  zipcode  persona  churn               write_time  \\\n",
       "0   6  2020-02-01T00:00:00Z    11111        2      0  2021-02-11 17:33:46.912   \n",
       "1   3  2020-02-01T00:00:00Z    11111        1      1  2021-02-11 17:33:17.563   \n",
       "2   2  2020-02-01T00:00:00Z    11111        1      1  2021-02-11 17:33:17.549   \n",
       "3   1  2020-02-01T00:00:00Z    11111        1      1  2021-02-11 17:33:46.912   \n",
       "4   4  2020-02-01T00:00:00Z    11111        2      0  2021-02-11 17:33:46.578   \n",
       "5   5  2020-02-01T00:00:00Z    11111        2      0  2021-02-11 17:33:46.578   \n",
       "\n",
       "       api_invocation_time  is_deleted  rank  \n",
       "0  2021-02-11 17:27:25.000       False     1  \n",
       "1  2021-02-11 17:27:25.000       False     1  \n",
       "2  2021-02-11 17:27:25.000       False     1  \n",
       "3  2021-02-11 17:27:24.000       False     1  \n",
       "4  2021-02-11 17:27:24.000       False     1  \n",
       "5  2021-02-11 17:27:25.000       False     1  "
      ]
     },
     "execution_count": 23,
     "metadata": {},
     "output_type": "execute_result"
    }
   ],
   "source": [
    "Utils.get_offline_feature_values_as_of(FG_NAME, '2020-02-01T00:00:00Z')"
   ]
  },
  {
   "cell_type": "markdown",
   "metadata": {},
   "source": [
    "## Delete a record and show how it impacts lookups (latest, and historical)"
   ]
  },
  {
   "cell_type": "code",
   "execution_count": 24,
   "metadata": {},
   "outputs": [],
   "source": [
    "Utils.delete_record(FG_NAME, 1, '2020-02-03T00:00:00Z')"
   ]
  },
  {
   "cell_type": "markdown",
   "metadata": {},
   "source": [
    "#### After a record is deleted, the online store will no longer return features for that id"
   ]
  },
  {
   "cell_type": "code",
   "execution_count": 25,
   "metadata": {},
   "outputs": [
    {
     "data": {
      "text/plain": [
       "[]"
      ]
     },
     "execution_count": 25,
     "metadata": {},
     "output_type": "execute_result"
    }
   ],
   "source": [
    "Utils.get_latest_feature_values(FG_NAME, [1])"
   ]
  },
  {
   "cell_type": "markdown",
   "metadata": {},
   "source": [
    "#### Once the deletion is propagated to the offline store, a new record is added with the is_deleted flag set to True\n",
    "If you get feature values as of that timestamp, the deleted record will be filtered out."
   ]
  },
  {
   "cell_type": "code",
   "execution_count": 26,
   "metadata": {},
   "outputs": [
    {
     "name": "stdout",
     "output_type": "stream",
     "text": [
      "Running query:\n",
      " SELECT * FROM (SELECT *, dense_rank() OVER (PARTITION BY Id ORDER BY UpdateTime DESC, Api_Invocation_Time DESC, write_time DESC) AS rank FROM \"customers-1613064432\" WHERE UpdateTime <= '2020-02-03T00:00:00Z') WHERE rank = 1 AND NOT is_deleted\n",
      "Waiting for offline store deletion update...\n",
      "Running query:\n",
      " SELECT * FROM (SELECT *, dense_rank() OVER (PARTITION BY Id ORDER BY UpdateTime DESC, Api_Invocation_Time DESC, write_time DESC) AS rank FROM \"customers-1613064432\" WHERE UpdateTime <= '2020-02-03T00:00:00Z') WHERE rank = 1 AND NOT is_deleted\n",
      "Waiting for offline store deletion update...\n",
      "Running query:\n",
      " SELECT * FROM (SELECT *, dense_rank() OVER (PARTITION BY Id ORDER BY UpdateTime DESC, Api_Invocation_Time DESC, write_time DESC) AS rank FROM \"customers-1613064432\" WHERE UpdateTime <= '2020-02-03T00:00:00Z') WHERE rank = 1 AND NOT is_deleted\n",
      "Waiting for offline store deletion update...\n",
      "Running query:\n",
      " SELECT * FROM (SELECT *, dense_rank() OVER (PARTITION BY Id ORDER BY UpdateTime DESC, Api_Invocation_Time DESC, write_time DESC) AS rank FROM \"customers-1613064432\" WHERE UpdateTime <= '2020-02-03T00:00:00Z') WHERE rank = 1 AND NOT is_deleted\n",
      "Waiting for offline store deletion update...\n",
      "Running query:\n",
      " SELECT * FROM (SELECT *, dense_rank() OVER (PARTITION BY Id ORDER BY UpdateTime DESC, Api_Invocation_Time DESC, write_time DESC) AS rank FROM \"customers-1613064432\" WHERE UpdateTime <= '2020-02-03T00:00:00Z') WHERE rank = 1 AND NOT is_deleted\n",
      "Waiting for offline store deletion update...\n",
      "Running query:\n",
      " SELECT * FROM (SELECT *, dense_rank() OVER (PARTITION BY Id ORDER BY UpdateTime DESC, Api_Invocation_Time DESC, write_time DESC) AS rank FROM \"customers-1613064432\" WHERE UpdateTime <= '2020-02-03T00:00:00Z') WHERE rank = 1 AND NOT is_deleted\n",
      "\n",
      "Deletion was propagated. Waited 5 minutes\n",
      "\n"
     ]
    },
    {
     "data": {
      "text/html": [
       "<div>\n",
       "<style scoped>\n",
       "    .dataframe tbody tr th:only-of-type {\n",
       "        vertical-align: middle;\n",
       "    }\n",
       "\n",
       "    .dataframe tbody tr th {\n",
       "        vertical-align: top;\n",
       "    }\n",
       "\n",
       "    .dataframe thead th {\n",
       "        text-align: right;\n",
       "    }\n",
       "</style>\n",
       "<table border=\"1\" class=\"dataframe\">\n",
       "  <thead>\n",
       "    <tr style=\"text-align: right;\">\n",
       "      <th></th>\n",
       "      <th>id</th>\n",
       "      <th>updatetime</th>\n",
       "      <th>zipcode</th>\n",
       "      <th>persona</th>\n",
       "      <th>churn</th>\n",
       "      <th>write_time</th>\n",
       "      <th>api_invocation_time</th>\n",
       "      <th>is_deleted</th>\n",
       "      <th>rank</th>\n",
       "    </tr>\n",
       "  </thead>\n",
       "  <tbody>\n",
       "    <tr>\n",
       "      <th>0</th>\n",
       "      <td>4</td>\n",
       "      <td>2020-02-03T00:00:00Z</td>\n",
       "      <td>33333</td>\n",
       "      <td>2</td>\n",
       "      <td>0</td>\n",
       "      <td>2021-02-11 17:33:46.587</td>\n",
       "      <td>2021-02-11 17:27:25.000</td>\n",
       "      <td>False</td>\n",
       "      <td>1</td>\n",
       "    </tr>\n",
       "    <tr>\n",
       "      <th>1</th>\n",
       "      <td>5</td>\n",
       "      <td>2020-02-03T00:00:00Z</td>\n",
       "      <td>33333</td>\n",
       "      <td>2</td>\n",
       "      <td>0</td>\n",
       "      <td>2021-02-11 17:33:46.587</td>\n",
       "      <td>2021-02-11 17:27:25.000</td>\n",
       "      <td>False</td>\n",
       "      <td>1</td>\n",
       "    </tr>\n",
       "    <tr>\n",
       "      <th>2</th>\n",
       "      <td>6</td>\n",
       "      <td>2020-02-03T00:00:00Z</td>\n",
       "      <td>33333</td>\n",
       "      <td>2</td>\n",
       "      <td>0</td>\n",
       "      <td>2021-02-11 17:33:46.913</td>\n",
       "      <td>2021-02-11 17:27:25.000</td>\n",
       "      <td>False</td>\n",
       "      <td>1</td>\n",
       "    </tr>\n",
       "    <tr>\n",
       "      <th>3</th>\n",
       "      <td>3</td>\n",
       "      <td>2020-02-03T00:00:00Z</td>\n",
       "      <td>33333</td>\n",
       "      <td>1</td>\n",
       "      <td>1</td>\n",
       "      <td>2021-02-11 17:33:17.579</td>\n",
       "      <td>2021-02-11 17:27:25.000</td>\n",
       "      <td>False</td>\n",
       "      <td>1</td>\n",
       "    </tr>\n",
       "    <tr>\n",
       "      <th>4</th>\n",
       "      <td>2</td>\n",
       "      <td>2020-02-03T00:00:00Z</td>\n",
       "      <td>33333</td>\n",
       "      <td>1</td>\n",
       "      <td>1</td>\n",
       "      <td>2021-02-11 17:33:17.576</td>\n",
       "      <td>2021-02-11 17:27:25.000</td>\n",
       "      <td>False</td>\n",
       "      <td>1</td>\n",
       "    </tr>\n",
       "  </tbody>\n",
       "</table>\n",
       "</div>"
      ],
      "text/plain": [
       "   id            updatetime  zipcode  persona  churn               write_time  \\\n",
       "0   4  2020-02-03T00:00:00Z    33333        2      0  2021-02-11 17:33:46.587   \n",
       "1   5  2020-02-03T00:00:00Z    33333        2      0  2021-02-11 17:33:46.587   \n",
       "2   6  2020-02-03T00:00:00Z    33333        2      0  2021-02-11 17:33:46.913   \n",
       "3   3  2020-02-03T00:00:00Z    33333        1      1  2021-02-11 17:33:17.579   \n",
       "4   2  2020-02-03T00:00:00Z    33333        1      1  2021-02-11 17:33:17.576   \n",
       "\n",
       "       api_invocation_time  is_deleted  rank  \n",
       "0  2021-02-11 17:27:25.000       False     1  \n",
       "1  2021-02-11 17:27:25.000       False     1  \n",
       "2  2021-02-11 17:27:25.000       False     1  \n",
       "3  2021-02-11 17:27:25.000       False     1  \n",
       "4  2021-02-11 17:27:25.000       False     1  "
      ]
     },
     "execution_count": 26,
     "metadata": {},
     "output_type": "execute_result"
    }
   ],
   "source": [
    "mins = 0\n",
    "while True:\n",
    "    hist_df = Utils.get_offline_feature_values_as_of(FG_NAME, '2020-02-03T00:00:00Z')\n",
    "    if hist_df.shape[0] == ORIGINAL_RECORD_COUNT:\n",
    "        print('Waiting for offline store deletion update...')\n",
    "        time.sleep(60)\n",
    "        mins += 1\n",
    "    else:\n",
    "        break\n",
    "\n",
    "print(f'\\nDeletion was propagated. Waited {mins} minutes\\n')\n",
    "hist_df.head(10)"
   ]
  },
  {
   "cell_type": "markdown",
   "metadata": {},
   "source": [
    "#### If you retrieve all feature records, you can see that the offline store is an append-only store\n",
    "A record is added with features written as NaN, with the `is_deleted` flag set to `True`.\n",
    "The new deleted record has the more recent write_time. "
   ]
  },
  {
   "cell_type": "code",
   "execution_count": 27,
   "metadata": {},
   "outputs": [
    {
     "name": "stdout",
     "output_type": "stream",
     "text": [
      "Running query:\n",
      " SELECT * FROM \"customers-1613064432\" \n"
     ]
    },
    {
     "data": {
      "text/html": [
       "<div>\n",
       "<style scoped>\n",
       "    .dataframe tbody tr th:only-of-type {\n",
       "        vertical-align: middle;\n",
       "    }\n",
       "\n",
       "    .dataframe tbody tr th {\n",
       "        vertical-align: top;\n",
       "    }\n",
       "\n",
       "    .dataframe thead th {\n",
       "        text-align: right;\n",
       "    }\n",
       "</style>\n",
       "<table border=\"1\" class=\"dataframe\">\n",
       "  <thead>\n",
       "    <tr style=\"text-align: right;\">\n",
       "      <th></th>\n",
       "      <th>id</th>\n",
       "      <th>updatetime</th>\n",
       "      <th>zipcode</th>\n",
       "      <th>persona</th>\n",
       "      <th>churn</th>\n",
       "      <th>write_time</th>\n",
       "      <th>api_invocation_time</th>\n",
       "      <th>is_deleted</th>\n",
       "    </tr>\n",
       "  </thead>\n",
       "  <tbody>\n",
       "    <tr>\n",
       "      <th>11</th>\n",
       "      <td>1</td>\n",
       "      <td>2020-02-01T00:00:00Z</td>\n",
       "      <td>11111.0</td>\n",
       "      <td>1.0</td>\n",
       "      <td>1.0</td>\n",
       "      <td>2021-02-11 17:33:46.912</td>\n",
       "      <td>2021-02-11 17:27:24.000</td>\n",
       "      <td>False</td>\n",
       "    </tr>\n",
       "    <tr>\n",
       "      <th>12</th>\n",
       "      <td>1</td>\n",
       "      <td>2020-02-02T00:00:00Z</td>\n",
       "      <td>22222.0</td>\n",
       "      <td>1.0</td>\n",
       "      <td>1.0</td>\n",
       "      <td>2021-02-11 17:33:46.913</td>\n",
       "      <td>2021-02-11 17:27:25.000</td>\n",
       "      <td>False</td>\n",
       "    </tr>\n",
       "    <tr>\n",
       "      <th>2</th>\n",
       "      <td>1</td>\n",
       "      <td>2020-02-03T00:00:00Z</td>\n",
       "      <td>33333.0</td>\n",
       "      <td>1.0</td>\n",
       "      <td>1.0</td>\n",
       "      <td>2021-02-11 17:33:46.913</td>\n",
       "      <td>2021-02-11 17:27:25.000</td>\n",
       "      <td>False</td>\n",
       "    </tr>\n",
       "    <tr>\n",
       "      <th>4</th>\n",
       "      <td>1</td>\n",
       "      <td>2020-02-03T00:00:00Z</td>\n",
       "      <td>NaN</td>\n",
       "      <td>NaN</td>\n",
       "      <td>NaN</td>\n",
       "      <td>2021-02-11 17:39:51.197</td>\n",
       "      <td>2021-02-11 17:34:59.000</td>\n",
       "      <td>True</td>\n",
       "    </tr>\n",
       "    <tr>\n",
       "      <th>9</th>\n",
       "      <td>2</td>\n",
       "      <td>2020-02-01T00:00:00Z</td>\n",
       "      <td>11111.0</td>\n",
       "      <td>1.0</td>\n",
       "      <td>1.0</td>\n",
       "      <td>2021-02-11 17:33:17.549</td>\n",
       "      <td>2021-02-11 17:27:25.000</td>\n",
       "      <td>False</td>\n",
       "    </tr>\n",
       "    <tr>\n",
       "      <th>8</th>\n",
       "      <td>2</td>\n",
       "      <td>2020-02-02T00:00:00Z</td>\n",
       "      <td>22222.0</td>\n",
       "      <td>1.0</td>\n",
       "      <td>1.0</td>\n",
       "      <td>2021-02-11 17:33:17.567</td>\n",
       "      <td>2021-02-11 17:27:25.000</td>\n",
       "      <td>False</td>\n",
       "    </tr>\n",
       "    <tr>\n",
       "      <th>1</th>\n",
       "      <td>2</td>\n",
       "      <td>2020-02-03T00:00:00Z</td>\n",
       "      <td>33333.0</td>\n",
       "      <td>1.0</td>\n",
       "      <td>1.0</td>\n",
       "      <td>2021-02-11 17:33:17.576</td>\n",
       "      <td>2021-02-11 17:27:25.000</td>\n",
       "      <td>False</td>\n",
       "    </tr>\n",
       "    <tr>\n",
       "      <th>5</th>\n",
       "      <td>3</td>\n",
       "      <td>2020-02-01T00:00:00Z</td>\n",
       "      <td>11111.0</td>\n",
       "      <td>1.0</td>\n",
       "      <td>1.0</td>\n",
       "      <td>2021-02-11 17:33:17.563</td>\n",
       "      <td>2021-02-11 17:27:25.000</td>\n",
       "      <td>False</td>\n",
       "    </tr>\n",
       "    <tr>\n",
       "      <th>18</th>\n",
       "      <td>3</td>\n",
       "      <td>2020-02-02T00:00:00Z</td>\n",
       "      <td>22222.0</td>\n",
       "      <td>1.0</td>\n",
       "      <td>1.0</td>\n",
       "      <td>2021-02-11 17:33:17.571</td>\n",
       "      <td>2021-02-11 17:27:25.000</td>\n",
       "      <td>False</td>\n",
       "    </tr>\n",
       "    <tr>\n",
       "      <th>0</th>\n",
       "      <td>3</td>\n",
       "      <td>2020-02-03T00:00:00Z</td>\n",
       "      <td>33333.0</td>\n",
       "      <td>1.0</td>\n",
       "      <td>1.0</td>\n",
       "      <td>2021-02-11 17:33:17.579</td>\n",
       "      <td>2021-02-11 17:27:25.000</td>\n",
       "      <td>False</td>\n",
       "    </tr>\n",
       "    <tr>\n",
       "      <th>6</th>\n",
       "      <td>4</td>\n",
       "      <td>2020-02-01T00:00:00Z</td>\n",
       "      <td>11111.0</td>\n",
       "      <td>2.0</td>\n",
       "      <td>0.0</td>\n",
       "      <td>2021-02-11 17:33:46.578</td>\n",
       "      <td>2021-02-11 17:27:24.000</td>\n",
       "      <td>False</td>\n",
       "    </tr>\n",
       "    <tr>\n",
       "      <th>14</th>\n",
       "      <td>4</td>\n",
       "      <td>2020-02-02T00:00:00Z</td>\n",
       "      <td>22222.0</td>\n",
       "      <td>2.0</td>\n",
       "      <td>0.0</td>\n",
       "      <td>2021-02-11 17:33:46.587</td>\n",
       "      <td>2021-02-11 17:27:25.000</td>\n",
       "      <td>False</td>\n",
       "    </tr>\n",
       "    <tr>\n",
       "      <th>16</th>\n",
       "      <td>4</td>\n",
       "      <td>2020-02-03T00:00:00Z</td>\n",
       "      <td>33333.0</td>\n",
       "      <td>2.0</td>\n",
       "      <td>0.0</td>\n",
       "      <td>2021-02-11 17:33:46.587</td>\n",
       "      <td>2021-02-11 17:27:25.000</td>\n",
       "      <td>False</td>\n",
       "    </tr>\n",
       "    <tr>\n",
       "      <th>7</th>\n",
       "      <td>5</td>\n",
       "      <td>2020-02-01T00:00:00Z</td>\n",
       "      <td>11111.0</td>\n",
       "      <td>2.0</td>\n",
       "      <td>0.0</td>\n",
       "      <td>2021-02-11 17:33:46.578</td>\n",
       "      <td>2021-02-11 17:27:25.000</td>\n",
       "      <td>False</td>\n",
       "    </tr>\n",
       "    <tr>\n",
       "      <th>15</th>\n",
       "      <td>5</td>\n",
       "      <td>2020-02-02T00:00:00Z</td>\n",
       "      <td>22222.0</td>\n",
       "      <td>2.0</td>\n",
       "      <td>0.0</td>\n",
       "      <td>2021-02-11 17:33:46.587</td>\n",
       "      <td>2021-02-11 17:27:25.000</td>\n",
       "      <td>False</td>\n",
       "    </tr>\n",
       "    <tr>\n",
       "      <th>17</th>\n",
       "      <td>5</td>\n",
       "      <td>2020-02-03T00:00:00Z</td>\n",
       "      <td>33333.0</td>\n",
       "      <td>2.0</td>\n",
       "      <td>0.0</td>\n",
       "      <td>2021-02-11 17:33:46.587</td>\n",
       "      <td>2021-02-11 17:27:25.000</td>\n",
       "      <td>False</td>\n",
       "    </tr>\n",
       "    <tr>\n",
       "      <th>10</th>\n",
       "      <td>6</td>\n",
       "      <td>2020-02-01T00:00:00Z</td>\n",
       "      <td>11111.0</td>\n",
       "      <td>2.0</td>\n",
       "      <td>0.0</td>\n",
       "      <td>2021-02-11 17:33:46.912</td>\n",
       "      <td>2021-02-11 17:27:25.000</td>\n",
       "      <td>False</td>\n",
       "    </tr>\n",
       "    <tr>\n",
       "      <th>13</th>\n",
       "      <td>6</td>\n",
       "      <td>2020-02-02T00:00:00Z</td>\n",
       "      <td>22222.0</td>\n",
       "      <td>2.0</td>\n",
       "      <td>0.0</td>\n",
       "      <td>2021-02-11 17:33:46.913</td>\n",
       "      <td>2021-02-11 17:27:25.000</td>\n",
       "      <td>False</td>\n",
       "    </tr>\n",
       "    <tr>\n",
       "      <th>3</th>\n",
       "      <td>6</td>\n",
       "      <td>2020-02-03T00:00:00Z</td>\n",
       "      <td>33333.0</td>\n",
       "      <td>2.0</td>\n",
       "      <td>0.0</td>\n",
       "      <td>2021-02-11 17:33:46.913</td>\n",
       "      <td>2021-02-11 17:27:25.000</td>\n",
       "      <td>False</td>\n",
       "    </tr>\n",
       "  </tbody>\n",
       "</table>\n",
       "</div>"
      ],
      "text/plain": [
       "    id            updatetime  zipcode  persona  churn  \\\n",
       "11   1  2020-02-01T00:00:00Z  11111.0      1.0    1.0   \n",
       "12   1  2020-02-02T00:00:00Z  22222.0      1.0    1.0   \n",
       "2    1  2020-02-03T00:00:00Z  33333.0      1.0    1.0   \n",
       "4    1  2020-02-03T00:00:00Z      NaN      NaN    NaN   \n",
       "9    2  2020-02-01T00:00:00Z  11111.0      1.0    1.0   \n",
       "8    2  2020-02-02T00:00:00Z  22222.0      1.0    1.0   \n",
       "1    2  2020-02-03T00:00:00Z  33333.0      1.0    1.0   \n",
       "5    3  2020-02-01T00:00:00Z  11111.0      1.0    1.0   \n",
       "18   3  2020-02-02T00:00:00Z  22222.0      1.0    1.0   \n",
       "0    3  2020-02-03T00:00:00Z  33333.0      1.0    1.0   \n",
       "6    4  2020-02-01T00:00:00Z  11111.0      2.0    0.0   \n",
       "14   4  2020-02-02T00:00:00Z  22222.0      2.0    0.0   \n",
       "16   4  2020-02-03T00:00:00Z  33333.0      2.0    0.0   \n",
       "7    5  2020-02-01T00:00:00Z  11111.0      2.0    0.0   \n",
       "15   5  2020-02-02T00:00:00Z  22222.0      2.0    0.0   \n",
       "17   5  2020-02-03T00:00:00Z  33333.0      2.0    0.0   \n",
       "10   6  2020-02-01T00:00:00Z  11111.0      2.0    0.0   \n",
       "13   6  2020-02-02T00:00:00Z  22222.0      2.0    0.0   \n",
       "3    6  2020-02-03T00:00:00Z  33333.0      2.0    0.0   \n",
       "\n",
       "                 write_time      api_invocation_time  is_deleted  \n",
       "11  2021-02-11 17:33:46.912  2021-02-11 17:27:24.000       False  \n",
       "12  2021-02-11 17:33:46.913  2021-02-11 17:27:25.000       False  \n",
       "2   2021-02-11 17:33:46.913  2021-02-11 17:27:25.000       False  \n",
       "4   2021-02-11 17:39:51.197  2021-02-11 17:34:59.000        True  \n",
       "9   2021-02-11 17:33:17.549  2021-02-11 17:27:25.000       False  \n",
       "8   2021-02-11 17:33:17.567  2021-02-11 17:27:25.000       False  \n",
       "1   2021-02-11 17:33:17.576  2021-02-11 17:27:25.000       False  \n",
       "5   2021-02-11 17:33:17.563  2021-02-11 17:27:25.000       False  \n",
       "18  2021-02-11 17:33:17.571  2021-02-11 17:27:25.000       False  \n",
       "0   2021-02-11 17:33:17.579  2021-02-11 17:27:25.000       False  \n",
       "6   2021-02-11 17:33:46.578  2021-02-11 17:27:24.000       False  \n",
       "14  2021-02-11 17:33:46.587  2021-02-11 17:27:25.000       False  \n",
       "16  2021-02-11 17:33:46.587  2021-02-11 17:27:25.000       False  \n",
       "7   2021-02-11 17:33:46.578  2021-02-11 17:27:25.000       False  \n",
       "15  2021-02-11 17:33:46.587  2021-02-11 17:27:25.000       False  \n",
       "17  2021-02-11 17:33:46.587  2021-02-11 17:27:25.000       False  \n",
       "10  2021-02-11 17:33:46.912  2021-02-11 17:27:25.000       False  \n",
       "13  2021-02-11 17:33:46.913  2021-02-11 17:27:25.000       False  \n",
       "3   2021-02-11 17:33:46.913  2021-02-11 17:27:25.000       False  "
      ]
     },
     "execution_count": 27,
     "metadata": {},
     "output_type": "execute_result"
    }
   ],
   "source": [
    "hist_df = Utils.get_historical_offline_feature_values(FG_NAME)\n",
    "hist_df.sort_values(by=['id','zipcode']).head(100)"
   ]
  },
  {
   "cell_type": "markdown",
   "metadata": {},
   "source": [
    "#### Now see what would be retrieved for a training dataset with only the latest values for each id\n",
    "Notice that the deleted record is not returned."
   ]
  },
  {
   "cell_type": "code",
   "execution_count": 28,
   "metadata": {},
   "outputs": [
    {
     "name": "stdout",
     "output_type": "stream",
     "text": [
      "Running query:\n",
      " SELECT ZipCode,Persona,Churn FROM (SELECT *, dense_rank() OVER (PARTITION BY Id ORDER BY UpdateTime DESC, Api_Invocation_Time DESC, write_time DESC) AS rank FROM \"customers-1613064432\" ) WHERE rank = 1 AND NOT is_deleted\n"
     ]
    },
    {
     "data": {
      "text/html": [
       "<div>\n",
       "<style scoped>\n",
       "    .dataframe tbody tr th:only-of-type {\n",
       "        vertical-align: middle;\n",
       "    }\n",
       "\n",
       "    .dataframe tbody tr th {\n",
       "        vertical-align: top;\n",
       "    }\n",
       "\n",
       "    .dataframe thead th {\n",
       "        text-align: right;\n",
       "    }\n",
       "</style>\n",
       "<table border=\"1\" class=\"dataframe\">\n",
       "  <thead>\n",
       "    <tr style=\"text-align: right;\">\n",
       "      <th></th>\n",
       "      <th>ZipCode</th>\n",
       "      <th>Persona</th>\n",
       "      <th>Churn</th>\n",
       "    </tr>\n",
       "  </thead>\n",
       "  <tbody>\n",
       "    <tr>\n",
       "      <th>0</th>\n",
       "      <td>33333</td>\n",
       "      <td>2</td>\n",
       "      <td>0</td>\n",
       "    </tr>\n",
       "    <tr>\n",
       "      <th>1</th>\n",
       "      <td>33333</td>\n",
       "      <td>2</td>\n",
       "      <td>0</td>\n",
       "    </tr>\n",
       "    <tr>\n",
       "      <th>2</th>\n",
       "      <td>33333</td>\n",
       "      <td>1</td>\n",
       "      <td>1</td>\n",
       "    </tr>\n",
       "    <tr>\n",
       "      <th>3</th>\n",
       "      <td>33333</td>\n",
       "      <td>1</td>\n",
       "      <td>1</td>\n",
       "    </tr>\n",
       "    <tr>\n",
       "      <th>4</th>\n",
       "      <td>33333</td>\n",
       "      <td>2</td>\n",
       "      <td>0</td>\n",
       "    </tr>\n",
       "  </tbody>\n",
       "</table>\n",
       "</div>"
      ],
      "text/plain": [
       "   ZipCode  Persona  Churn\n",
       "0    33333        2      0\n",
       "1    33333        2      0\n",
       "2    33333        1      1\n",
       "3    33333        1      1\n",
       "4    33333        2      0"
      ]
     },
     "execution_count": 28,
     "metadata": {},
     "output_type": "execute_result"
    }
   ],
   "source": [
    "Utils.get_latest_offline_feature_values(FG_NAME, feature_names=['ZipCode','Persona','Churn'])"
   ]
  },
  {
   "cell_type": "markdown",
   "metadata": {},
   "source": [
    "## Clean up\n",
    "Delete the feature group and its offline storage."
   ]
  },
  {
   "cell_type": "code",
   "execution_count": 29,
   "metadata": {},
   "outputs": [],
   "source": [
    "#Utils.delete_feature_group(FG_NAME)"
   ]
  }
 ],
 "metadata": {
  "kernelspec": {
   "display_name": "conda_python3",
   "language": "python",
   "name": "conda_python3"
  },
  "language_info": {
   "codemirror_mode": {
    "name": "ipython",
    "version": 3
   },
   "file_extension": ".py",
   "mimetype": "text/x-python",
   "name": "python",
   "nbconvert_exporter": "python",
   "pygments_lexer": "ipython3",
   "version": "3.6.10"
  }
 },
 "nbformat": 4,
 "nbformat_minor": 4
}
