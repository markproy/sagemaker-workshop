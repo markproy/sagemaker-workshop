{
 "cells": [
  {
   "cell_type": "code",
   "execution_count": null,
   "metadata": {},
   "outputs": [],
   "source": [
    "import boto3\n",
    "import sagemaker\n",
    "from sagemaker import get_execution_role\n",
    "from sagemaker.sklearn.processing import SKLearnProcessor\n",
    "\n",
    "region = boto3.session.Session().region_name\n",
    "role = get_execution_role()"
   ]
  },
  {
   "cell_type": "code",
   "execution_count": null,
   "metadata": {},
   "outputs": [],
   "source": [
    "%%writefile batch_ingest_sm_sdk.py\n",
    "import pandas as pd\n",
    "import os\n",
    "import glob\n",
    "import subprocess\n",
    "import sys\n",
    "import argparse\n",
    "\n",
    "subprocess.check_call([sys.executable, \"-m\", \"pip\", \"install\", \"sagemaker\"])\n",
    "import sagemaker as sm\n",
    "\n",
    "from sagemaker.feature_store.feature_group import FeatureGroup\n",
    "from sagemaker.session import Session\n",
    "import boto3\n",
    "\n",
    "boto_session = boto3.Session()\n",
    "\n",
    "sagemaker_client = boto_session.client(service_name='sagemaker')\n",
    "featurestore_runtime = boto_session.client(service_name='sagemaker-featurestore-runtime')\n",
    "\n",
    "feature_store_session = Session(\n",
    "    boto_session=boto_session,\n",
    "    sagemaker_client=sagemaker_client,\n",
    "    sagemaker_featurestore_runtime_client=featurestore_runtime\n",
    ")\n",
    "\n",
    "def ingest_data(args):\n",
    "    # Read data locally \n",
    "    file_list = glob.glob('/opt/ml/processing/input/*.csv')\n",
    "    print(f'***** Starting processing job, received the following input files: \\n{file_list}')\n",
    "\n",
    "    df = pd.concat([pd.read_csv(f) for f in file_list], ignore_index=True)\n",
    "\n",
    "    print(f'***** ingesting {df.shape[0]} total rows from {len(file_list)} files')\n",
    "    print(f'      into {args.feature_group_name}, using {args.num_processes} processes and {args.num_workers} workers...\\n')\n",
    "\n",
    "    fg = FeatureGroup(name=args.feature_group_name, sagemaker_session=feature_store_session)\n",
    "    fg.ingest(data_frame=df, max_processes=args.num_processes, max_workers=args.num_workers, wait=True)\n",
    "    \n",
    "    return\n",
    "\n",
    "def parse_args():\n",
    "    parser = argparse.ArgumentParser()\n",
    "    parser.add_argument(\"--num_processes\", type=int, default=1)\n",
    "    parser.add_argument(\"--num_workers\", type=int, default=1)\n",
    "    parser.add_argument(\"--feature_group_name\", type=str)\n",
    "\n",
    "    args, _ = parser.parse_known_args()\n",
    "    return args\n",
    "\n",
    "if __name__ == '__main__':\n",
    "    args = parse_args()\n",
    "    ingest_data(args)\n",
    "    print('Finished ingesting data')"
   ]
  },
  {
   "cell_type": "code",
   "execution_count": null,
   "metadata": {},
   "outputs": [],
   "source": [
    "s3_uri_prefix = 's3://roymark-ohio/feature-store/raw-by-day'\n",
    "feature_group_name = 'trans-both-fg'"
   ]
  },
  {
   "cell_type": "code",
   "execution_count": null,
   "metadata": {},
   "outputs": [],
   "source": [
    "from sagemaker.processing import ProcessingInput, ProcessingOutput\n",
    "\n",
    "sklearn_processor = SKLearnProcessor(framework_version='0.20.0',\n",
    "                                     role=role,\n",
    "                                     instance_type='ml.m5.4xlarge',\n",
    "                                     instance_count=8,\n",
    "                                     env={'AWS_DEFAULT_REGION': boto3.Session().region_name})\n",
    "\n",
    "sklearn_processor.run(\n",
    "    code='batch_ingest_sm_sdk.py',\n",
    "    arguments = ['--num_processes', '24', \n",
    "                 '--feature_group_name', feature_group_name],\n",
    "    inputs=[ProcessingInput(\n",
    "        s3_data_type='S3Prefix',\n",
    "        source=s3_uri_prefix,\n",
    "        s3_data_distribution_type='ShardedByS3Key',\n",
    "        destination='/opt/ml/processing/input')]\n",
    ")"
   ]
  }
 ],
 "metadata": {
  "kernelspec": {
   "display_name": "conda_python3",
   "language": "python",
   "name": "conda_python3"
  },
  "language_info": {
   "codemirror_mode": {
    "name": "ipython",
    "version": 3
   },
   "file_extension": ".py",
   "mimetype": "text/x-python",
   "name": "python",
   "nbconvert_exporter": "python",
   "pygments_lexer": "ipython3",
   "version": "3.6.13"
  }
 },
 "nbformat": 4,
 "nbformat_minor": 4
}
